{
 "cells": [
  {
   "cell_type": "code",
   "execution_count": 1,
   "metadata": {},
   "outputs": [],
   "source": [
    "# Import libraries\n",
    "from preprocessing_utils import load_data, preprocess_data\n",
    "from compress_and_extract_utils import compress_tfrecord"
   ]
  },
  {
   "cell_type": "code",
   "execution_count": 2,
   "metadata": {},
   "outputs": [
    {
     "name": "stdout",
     "output_type": "stream",
     "text": [
      "Loading data...\n",
      "Data loaded! The length of the raw dataframe is 4812460\n"
     ]
    }
   ],
   "source": [
    "# Load data\n",
    "df = load_data('joined_new.csv')"
   ]
  },
  {
   "cell_type": "code",
   "execution_count": 3,
   "metadata": {},
   "outputs": [],
   "source": [
    "# Grouping different columns based on task\n",
    "\n",
    "target_variables_for_classification = ['has_vendor_number', 'company_country', 'link_type', 'company_currency',\n",
    "                                       'language', 'hide_from_search', 'release_state', 'classification',\n",
    "                                       'delivery_terms_maintained', 'payment_terms_maintained', 'homepage_maintained',\n",
    "                                       'duns_maintained', 'vat_code_maintained', 'tax_number_maintained',\n",
    "                                       'zipcode_maintained', 'city_maintained', 'address_maintained',\n",
    "                                       'geographic_area_maintained', 'has_debitor', 'has_transport_zone', 'has_user_id',\n",
    "                                       'abc', 'profile_type', 'detailed_status'\n",
    "                                       ] # sent_back cannot be classified using multiclass-classification\n",
    "\n",
    "target_variables_for_binary_classification = ['sent_back', 'delivery_terms_maintained', 'payment_terms_maintained',\n",
    "                                              'homepage_maintained', 'duns_maintained', 'vat_code_maintained',\n",
    "                                              'tax_number_maintained', 'zipcode_maintained', 'city_maintained',\n",
    "                                              'address_maintained', 'geographic_area_maintained', 'has_debitor',\n",
    "                                              'has_transport_zone', 'has_user_id']\n",
    "\n",
    "target_variables_for_regression = ['nr_awarded_items', 'reg_step', 'sent_date', 'created', 'sent_datetime']\n",
    "\n",
    "hashed_features = ['created_by_user_hash', 'ekorg_hash', 'gs_hash', 'ekgrp_hash', 'country', 'org_currency',\n",
    "                   'currency', 'ekgrp_id_hash', 'ekorg_id_hash', 'tco_hash', 'unit_hash',\n",
    "                   'commodity_hash_item', 'commodity_hash', 'main_language', 'main_department', 'unit_hash_mat',\n",
    "                   'cluster_hash', 'telephone_country_iso', 'timezone', 'country_of_origin', ]\n",
    "\n",
    "datetime_columns = ['registration_date', 'item_created', 'rfq_created_on', 'rfq_dealine_date']\n",
    "\n",
    "numeric_columns = ['number_of_positions', 'number_of_suppliers', 'number_of_quotations', 'has_buyer_group_assigned', 'has_payment_term', 'allow_payment_term_override', \n",
    "                     'has_delivery_term', 'allow_delivery_term_override', 'is_portal_visible', 'has_quantity_type', 'price_break1', 'has_formula', 'has_shipping_address',\n",
    "                     'has_vendor_number_item', 'quantity', 'has_sap_raw_unit', 'historical_price', 'target_price', 'leadtime', 'has_type_set', 'has_booker_set', \n",
    "                     'has_buyergroup_set', 'has_purchasing_value_key_set', 'has_dimension_set', 'is_production_material', 'has_buyer_set', 'has_ekq_set',\n",
    "                     'quote_mode_excel_offline', 'number_of_fields']"
   ]
  },
  {
   "cell_type": "code",
   "execution_count": 4,
   "metadata": {},
   "outputs": [],
   "source": [
    "# Columns to be imputed with mean\n",
    "columns_to_fillna_with_mean = ['target_price', 'historical_price', 'price_break1', 'is_production_material', 'has_buyer_set', 'has_ekq_set']\n",
    "# Columns to be imputed with median\n",
    "columns_to_fillna_with_median = ['quantity']\n",
    "# Columns to be imputed with 0\n",
    "columns_to_fillna_with_0 = ['is_portal_visible', 'leadtime', 'has_formula', 'has_shipping_address', 'has_vendor_number_item', 'has_sap_raw_unit',\n",
    "                            'has_type_set', 'has_booker_set', 'has_buyergroup_set', 'has_purchasing_value_key_set', 'has_dimension_set', \n",
    "                            'quote_mode_excel_offline', 'has_quantity_type']\n",
    "# Columns to be imputed with 1\n",
    "columns_to_fillna_with_1 = ['number_of_fields'] "
   ]
  },
  {
   "cell_type": "code",
   "execution_count": 5,
   "metadata": {},
   "outputs": [
    {
     "name": "stderr",
     "output_type": "stream",
     "text": [
      "/usr/local/lib/python3.7/site-packages/pandas/core/indexing.py:1596: SettingWithCopyWarning: \n",
      "A value is trying to be set on a copy of a slice from a DataFrame.\n",
      "Try using .loc[row_indexer,col_indexer] = value instead\n",
      "\n",
      "See the caveats in the documentation: https://pandas.pydata.org/pandas-docs/stable/user_guide/indexing.html#returning-a-view-versus-a-copy\n",
      "  self.obj[key] = _infer_fill_value(value)\n",
      "/usr/local/lib/python3.7/site-packages/pandas/core/indexing.py:1765: SettingWithCopyWarning: \n",
      "A value is trying to be set on a copy of a slice from a DataFrame.\n",
      "Try using .loc[row_indexer,col_indexer] = value instead\n",
      "\n",
      "See the caveats in the documentation: https://pandas.pydata.org/pandas-docs/stable/user_guide/indexing.html#returning-a-view-versus-a-copy\n",
      "  isetter(loc, value)\n",
      "/root/supplier_suggestion/preprocessing_utils.py:81: SettingWithCopyWarning: \n",
      "A value is trying to be set on a copy of a slice from a DataFrame.\n",
      "Try using .loc[row_indexer,col_indexer] = value instead\n",
      "\n",
      "See the caveats in the documentation: https://pandas.pydata.org/pandas-docs/stable/user_guide/indexing.html#returning-a-view-versus-a-copy\n",
      "  df[column] = pd.to_datetime(df[column])\n",
      "/usr/local/lib/python3.7/site-packages/pandas/core/indexing.py:1745: SettingWithCopyWarning: \n",
      "A value is trying to be set on a copy of a slice from a DataFrame.\n",
      "Try using .loc[row_indexer,col_indexer] = value instead\n",
      "\n",
      "See the caveats in the documentation: https://pandas.pydata.org/pandas-docs/stable/user_guide/indexing.html#returning-a-view-versus-a-copy\n",
      "  isetter(ilocs[0], value)\n",
      "/root/supplier_suggestion/preprocessing_utils.py:46: SettingWithCopyWarning: \n",
      "A value is trying to be set on a copy of a slice from a DataFrame.\n",
      "Try using .loc[row_indexer,col_indexer] = value instead\n",
      "\n",
      "See the caveats in the documentation: https://pandas.pydata.org/pandas-docs/stable/user_guide/indexing.html#returning-a-view-versus-a-copy\n",
      "  df[feature] = df[feature] - df[reference]\n"
     ]
    },
    {
     "name": "stdout",
     "output_type": "stream",
     "text": [
      "Features ready, preparing the target variable for classification...\n",
      "Dataframe transformed!\n",
      "Saving variables for inference...\n",
      "Variables for inference saved!\n"
     ]
    },
    {
     "name": "stderr",
     "output_type": "stream",
     "text": [
      "/root/supplier_suggestion/preprocessing_utils.py:314: SettingWithCopyWarning: \n",
      "A value is trying to be set on a copy of a slice from a DataFrame.\n",
      "Try using .loc[row_indexer,col_indexer] = value instead\n",
      "\n",
      "See the caveats in the documentation: https://pandas.pydata.org/pandas-docs/stable/user_guide/indexing.html#returning-a-view-versus-a-copy\n",
      "  ddf[col] = ddf[col].fillna(ddf[col].mean())\n",
      "/root/supplier_suggestion/preprocessing_utils.py:316: SettingWithCopyWarning: \n",
      "A value is trying to be set on a copy of a slice from a DataFrame.\n",
      "Try using .loc[row_indexer,col_indexer] = value instead\n",
      "\n",
      "See the caveats in the documentation: https://pandas.pydata.org/pandas-docs/stable/user_guide/indexing.html#returning-a-view-versus-a-copy\n",
      "  ddf[col] = ddf[col].fillna(ddf[col].median())\n",
      "/root/supplier_suggestion/preprocessing_utils.py:318: SettingWithCopyWarning: \n",
      "A value is trying to be set on a copy of a slice from a DataFrame.\n",
      "Try using .loc[row_indexer,col_indexer] = value instead\n",
      "\n",
      "See the caveats in the documentation: https://pandas.pydata.org/pandas-docs/stable/user_guide/indexing.html#returning-a-view-versus-a-copy\n",
      "  ddf[col] = ddf[col].fillna(int(value))\n",
      "/root/supplier_suggestion/preprocessing_utils.py:473: SettingWithCopyWarning: \n",
      "A value is trying to be set on a copy of a slice from a DataFrame\n",
      "\n",
      "See the caveats in the documentation: https://pandas.pydata.org/pandas-docs/stable/user_guide/indexing.html#returning-a-view-versus-a-copy\n",
      "  ddf.dropna(inplace=True)\n"
     ]
    },
    {
     "name": "stdout",
     "output_type": "stream",
     "text": [
      "The length of the dataset after preprocessing: 3400709.\n",
      "Normalizing data...\n",
      "[2021-07-04 21:23:22.443 tensorflow-2-3-gpu-p-ml-t3-2xlarge-1d7dffe6d56d60283d542ca429b8:598 INFO utils.py:27] RULE_JOB_STOP_SIGNAL_FILENAME: None\n",
      "[2021-07-04 21:23:22.470 tensorflow-2-3-gpu-p-ml-t3-2xlarge-1d7dffe6d56d60283d542ca429b8:598 INFO profiler_config_parser.py:102] Unable to find config at /opt/ml/input/config/profilerconfig.json. Profiler is disabled.\n",
      "Data normalization successful!\n",
      "0.27677226066589355\n",
      "0.27921581268310547\n",
      "Numerical features are saved as TFRecord files!\n",
      "0.01443791389465332\n",
      "0.015491485595703125\n",
      "Target variable is saved as TFRecord file!\n",
      "0.015659570693969727\n",
      "0.015887737274169922\n",
      "Categorical features are saved as TFRecord files!\n"
     ]
    }
   ],
   "source": [
    "if __name__ == '__main__':\n",
    "    \n",
    "    # Get train and test data separated by feature type\n",
    "    train_X, train_cat, train_y, test_X, test_cat, test_y = preprocess_data(df, 'abc', 0, hashed_features, datetime_columns, numeric_columns,\n",
    "                                                                           '2015-01-01', 0.9, './saved_dictionaries/', './saved_variables/', columns_to_fillna_with_mean, \n",
    "                                                                            columns_to_fillna_with_median, columns_to_fillna_with_0, columns_to_fillna_with_1)\n",
    "    \n",
    "    compress_tfrecord(train_X[0:100], test_X[0:100], train_cat[0:100], test_cat[0:100], train_y[0:100], test_y[0:100], 'abc', './saved_features/')"
   ]
  }
 ],
 "metadata": {
  "instance_type": "ml.t3.2xlarge",
  "kernelspec": {
   "display_name": "Python 3 (TensorFlow 2.3 Python 3.7 GPU Optimized)",
   "language": "python",
   "name": "python3__SAGEMAKER_INTERNAL__arn:aws:sagemaker:eu-central-1:936697816551:image/tensorflow-2.3-gpu-py37-cu110-ubuntu18.04-v3"
  },
  "language_info": {
   "codemirror_mode": {
    "name": "ipython",
    "version": 3
   },
   "file_extension": ".py",
   "mimetype": "text/x-python",
   "name": "python",
   "nbconvert_exporter": "python",
   "pygments_lexer": "ipython3",
   "version": "3.7.10"
  }
 },
 "nbformat": 4,
 "nbformat_minor": 4
}
